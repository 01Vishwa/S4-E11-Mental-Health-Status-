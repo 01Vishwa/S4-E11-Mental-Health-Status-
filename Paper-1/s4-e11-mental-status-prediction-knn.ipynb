{
 "cells": [
  {
   "cell_type": "markdown",
   "id": "ee3eef89",
   "metadata": {
    "papermill": {
     "duration": 0.006507,
     "end_time": "2024-11-20T13:12:35.367062",
     "exception": false,
     "start_time": "2024-11-20T13:12:35.360555",
     "status": "completed"
    },
    "tags": []
   },
   "source": [
    "# <p style=\"background-color: #4CAF50; font-family: 'Arial', sans-serif; font-weight: bold; color: #FFFFFF; font-size: 120%; text-align: center; border: 1px solid #FFFFFF; border-radius: 10px; padding: 10px; box-shadow: 0 4px 15px rgba(0, 0, 0, 0.2);\">🧠Mental Health Status Analysis🤯</p>\r\n"
   ]
  },
  {
   "cell_type": "markdown",
   "id": "8b041e1a",
   "metadata": {
    "papermill": {
     "duration": 0.005432,
     "end_time": "2024-11-20T13:12:35.379411",
     "exception": false,
     "start_time": "2024-11-20T13:12:35.373979",
     "status": "completed"
    },
    "tags": []
   },
   "source": [
    "<div style=\"padding: 20px; border: 2px solid black; font-family: 'Comic Sans MS'; line-height: 1.5em; width: 75%; margin: 0 auto;\">\r\n",
    "    <p style=\"font-size: 20px; color: black;\">\r\n",
    "        <strong>Objective:</strong><br>\r\n",
    "        This notebook aims to utilize the K-Nearest Neighbors (KNN) algorithm to perform binary classification on mental health data. Through exploratory data analysis (EDA), we will reveal insights and trends related to mental health status. The analysis will investigate key factors such as academic pressure, work-life balance, and personal history. Data visualization techniques will be employed to effectively communicate findings, supporting data-driven decision-making in predicting mental health outcomes.<br>\r\n",
    "    </p>\r\n",
    "</div>\r\n",
    "div>\r\n"
   ]
  },
  {
   "cell_type": "markdown",
   "id": "08895960",
   "metadata": {
    "papermill": {
     "duration": 0.005425,
     "end_time": "2024-11-20T13:12:35.390532",
     "exception": false,
     "start_time": "2024-11-20T13:12:35.385107",
     "status": "completed"
    },
    "tags": []
   },
   "source": [
    "# <p style=\"background-color: #4CAF50; font-family: 'Arial', sans-serif; font-weight: bold; color: #FFFFFF; font-size: 80%; text-align: center; border: 1px solid #FFFFFF; border-radius: 10px; padding: 10px; box-shadow: 0 4px 15px rgba(0, 0, 0, 0.2);\">🚀 Importing the Brainy Packages</p>\n"
   ]
  },
  {
   "cell_type": "code",
   "execution_count": 1,
   "id": "2d6a67fb",
   "metadata": {
    "_cell_guid": "b1076dfc-b9ad-4769-8c92-a6c4dae69d19",
    "_uuid": "8f2839f25d086af736a60e9eeb907d3b93b6e0e5",
    "execution": {
     "iopub.execute_input": "2024-11-20T13:12:35.403333Z",
     "iopub.status.busy": "2024-11-20T13:12:35.402945Z",
     "iopub.status.idle": "2024-11-20T13:12:37.744836Z",
     "shell.execute_reply": "2024-11-20T13:12:37.743924Z"
    },
    "papermill": {
     "duration": 2.350786,
     "end_time": "2024-11-20T13:12:37.746959",
     "exception": false,
     "start_time": "2024-11-20T13:12:35.396173",
     "status": "completed"
    },
    "tags": []
   },
   "outputs": [],
   "source": [
    "import pandas as pd\n",
    "import numpy as np\n",
    "import matplotlib.pyplot as plt\n",
    "import seaborn as sns\n",
    "from sklearn.model_selection import train_test_split\n",
    "from sklearn.neighbors import KNeighborsClassifier\n",
    "from sklearn.metrics import accuracy_score, classification_report, confusion_matrix, roc_curve, auc\n",
    "import optuna\n",
    "from sklearn.preprocessing import LabelEncoder\n",
    "import warnings\n",
    "warnings.filterwarnings(\"ignore\")"
   ]
  },
  {
   "cell_type": "markdown",
   "id": "d6af3b7e",
   "metadata": {
    "papermill": {
     "duration": 0.005757,
     "end_time": "2024-11-20T13:12:37.759270",
     "exception": false,
     "start_time": "2024-11-20T13:12:37.753513",
     "status": "completed"
    },
    "tags": []
   },
   "source": [
    "# <p style=\"background-color: #4CAF50; font-family: 'Arial', sans-serif; font-weight: bold; color: #FFFFFF; font-size: 80%; text-align: center; border: 1px solid #FFFFFF; border-radius: 10px; padding: 10px; box-shadow: 0 4px 15px rgba(0, 0, 0, 0.2);\">📖 Reading the Data (Let’s Get Some Insight!)</p>\n"
   ]
  },
  {
   "cell_type": "code",
   "execution_count": 2,
   "id": "1bdd009b",
   "metadata": {
    "execution": {
     "iopub.execute_input": "2024-11-20T13:12:37.772715Z",
     "iopub.status.busy": "2024-11-20T13:12:37.771770Z",
     "iopub.status.idle": "2024-11-20T13:12:38.491080Z",
     "shell.execute_reply": "2024-11-20T13:12:38.490105Z"
    },
    "papermill": {
     "duration": 0.727869,
     "end_time": "2024-11-20T13:12:38.493015",
     "exception": false,
     "start_time": "2024-11-20T13:12:37.765146",
     "status": "completed"
    },
    "tags": []
   },
   "outputs": [],
   "source": [
    "train = pd.read_csv('/kaggle/input/playground-series-s4e11/train.csv')\n",
    "test = pd.read_csv('/kaggle/input/playground-series-s4e11/test.csv')\n",
    "submission = pd.read_csv('/kaggle/input/playground-series-s4e11/sample_submission.csv')"
   ]
  },
  {
   "cell_type": "code",
   "execution_count": 3,
   "id": "1a9b0f0c",
   "metadata": {
    "execution": {
     "iopub.execute_input": "2024-11-20T13:12:38.506414Z",
     "iopub.status.busy": "2024-11-20T13:12:38.505880Z",
     "iopub.status.idle": "2024-11-20T13:12:38.531554Z",
     "shell.execute_reply": "2024-11-20T13:12:38.530781Z"
    },
    "papermill": {
     "duration": 0.034213,
     "end_time": "2024-11-20T13:12:38.533395",
     "exception": false,
     "start_time": "2024-11-20T13:12:38.499182",
     "status": "completed"
    },
    "tags": []
   },
   "outputs": [
    {
     "data": {
      "text/html": [
       "<div>\n",
       "<style scoped>\n",
       "    .dataframe tbody tr th:only-of-type {\n",
       "        vertical-align: middle;\n",
       "    }\n",
       "\n",
       "    .dataframe tbody tr th {\n",
       "        vertical-align: top;\n",
       "    }\n",
       "\n",
       "    .dataframe thead th {\n",
       "        text-align: right;\n",
       "    }\n",
       "</style>\n",
       "<table border=\"1\" class=\"dataframe\">\n",
       "  <thead>\n",
       "    <tr style=\"text-align: right;\">\n",
       "      <th></th>\n",
       "      <th>id</th>\n",
       "      <th>Name</th>\n",
       "      <th>Gender</th>\n",
       "      <th>Age</th>\n",
       "      <th>City</th>\n",
       "      <th>Working Professional or Student</th>\n",
       "      <th>Profession</th>\n",
       "      <th>Academic Pressure</th>\n",
       "      <th>Work Pressure</th>\n",
       "      <th>CGPA</th>\n",
       "      <th>Study Satisfaction</th>\n",
       "      <th>Job Satisfaction</th>\n",
       "      <th>Sleep Duration</th>\n",
       "      <th>Dietary Habits</th>\n",
       "      <th>Degree</th>\n",
       "      <th>Have you ever had suicidal thoughts ?</th>\n",
       "      <th>Work/Study Hours</th>\n",
       "      <th>Financial Stress</th>\n",
       "      <th>Family History of Mental Illness</th>\n",
       "      <th>Depression</th>\n",
       "    </tr>\n",
       "  </thead>\n",
       "  <tbody>\n",
       "    <tr>\n",
       "      <th>0</th>\n",
       "      <td>0</td>\n",
       "      <td>Aaradhya</td>\n",
       "      <td>Female</td>\n",
       "      <td>49.0</td>\n",
       "      <td>Ludhiana</td>\n",
       "      <td>Working Professional</td>\n",
       "      <td>Chef</td>\n",
       "      <td>NaN</td>\n",
       "      <td>5.0</td>\n",
       "      <td>NaN</td>\n",
       "      <td>NaN</td>\n",
       "      <td>2.0</td>\n",
       "      <td>More than 8 hours</td>\n",
       "      <td>Healthy</td>\n",
       "      <td>BHM</td>\n",
       "      <td>No</td>\n",
       "      <td>1.0</td>\n",
       "      <td>2.0</td>\n",
       "      <td>No</td>\n",
       "      <td>0</td>\n",
       "    </tr>\n",
       "    <tr>\n",
       "      <th>1</th>\n",
       "      <td>1</td>\n",
       "      <td>Vivan</td>\n",
       "      <td>Male</td>\n",
       "      <td>26.0</td>\n",
       "      <td>Varanasi</td>\n",
       "      <td>Working Professional</td>\n",
       "      <td>Teacher</td>\n",
       "      <td>NaN</td>\n",
       "      <td>4.0</td>\n",
       "      <td>NaN</td>\n",
       "      <td>NaN</td>\n",
       "      <td>3.0</td>\n",
       "      <td>Less than 5 hours</td>\n",
       "      <td>Unhealthy</td>\n",
       "      <td>LLB</td>\n",
       "      <td>Yes</td>\n",
       "      <td>7.0</td>\n",
       "      <td>3.0</td>\n",
       "      <td>No</td>\n",
       "      <td>1</td>\n",
       "    </tr>\n",
       "    <tr>\n",
       "      <th>2</th>\n",
       "      <td>2</td>\n",
       "      <td>Yuvraj</td>\n",
       "      <td>Male</td>\n",
       "      <td>33.0</td>\n",
       "      <td>Visakhapatnam</td>\n",
       "      <td>Student</td>\n",
       "      <td>NaN</td>\n",
       "      <td>5.0</td>\n",
       "      <td>NaN</td>\n",
       "      <td>8.97</td>\n",
       "      <td>2.0</td>\n",
       "      <td>NaN</td>\n",
       "      <td>5-6 hours</td>\n",
       "      <td>Healthy</td>\n",
       "      <td>B.Pharm</td>\n",
       "      <td>Yes</td>\n",
       "      <td>3.0</td>\n",
       "      <td>1.0</td>\n",
       "      <td>No</td>\n",
       "      <td>1</td>\n",
       "    </tr>\n",
       "    <tr>\n",
       "      <th>3</th>\n",
       "      <td>3</td>\n",
       "      <td>Yuvraj</td>\n",
       "      <td>Male</td>\n",
       "      <td>22.0</td>\n",
       "      <td>Mumbai</td>\n",
       "      <td>Working Professional</td>\n",
       "      <td>Teacher</td>\n",
       "      <td>NaN</td>\n",
       "      <td>5.0</td>\n",
       "      <td>NaN</td>\n",
       "      <td>NaN</td>\n",
       "      <td>1.0</td>\n",
       "      <td>Less than 5 hours</td>\n",
       "      <td>Moderate</td>\n",
       "      <td>BBA</td>\n",
       "      <td>Yes</td>\n",
       "      <td>10.0</td>\n",
       "      <td>1.0</td>\n",
       "      <td>Yes</td>\n",
       "      <td>1</td>\n",
       "    </tr>\n",
       "    <tr>\n",
       "      <th>4</th>\n",
       "      <td>4</td>\n",
       "      <td>Rhea</td>\n",
       "      <td>Female</td>\n",
       "      <td>30.0</td>\n",
       "      <td>Kanpur</td>\n",
       "      <td>Working Professional</td>\n",
       "      <td>Business Analyst</td>\n",
       "      <td>NaN</td>\n",
       "      <td>1.0</td>\n",
       "      <td>NaN</td>\n",
       "      <td>NaN</td>\n",
       "      <td>1.0</td>\n",
       "      <td>5-6 hours</td>\n",
       "      <td>Unhealthy</td>\n",
       "      <td>BBA</td>\n",
       "      <td>Yes</td>\n",
       "      <td>9.0</td>\n",
       "      <td>4.0</td>\n",
       "      <td>Yes</td>\n",
       "      <td>0</td>\n",
       "    </tr>\n",
       "  </tbody>\n",
       "</table>\n",
       "</div>"
      ],
      "text/plain": [
       "   id      Name  Gender   Age           City Working Professional or Student  \\\n",
       "0   0  Aaradhya  Female  49.0       Ludhiana            Working Professional   \n",
       "1   1     Vivan    Male  26.0       Varanasi            Working Professional   \n",
       "2   2    Yuvraj    Male  33.0  Visakhapatnam                         Student   \n",
       "3   3    Yuvraj    Male  22.0         Mumbai            Working Professional   \n",
       "4   4      Rhea  Female  30.0         Kanpur            Working Professional   \n",
       "\n",
       "         Profession  Academic Pressure  Work Pressure  CGPA  \\\n",
       "0              Chef                NaN            5.0   NaN   \n",
       "1           Teacher                NaN            4.0   NaN   \n",
       "2               NaN                5.0            NaN  8.97   \n",
       "3           Teacher                NaN            5.0   NaN   \n",
       "4  Business Analyst                NaN            1.0   NaN   \n",
       "\n",
       "   Study Satisfaction  Job Satisfaction     Sleep Duration Dietary Habits  \\\n",
       "0                 NaN               2.0  More than 8 hours        Healthy   \n",
       "1                 NaN               3.0  Less than 5 hours      Unhealthy   \n",
       "2                 2.0               NaN          5-6 hours        Healthy   \n",
       "3                 NaN               1.0  Less than 5 hours       Moderate   \n",
       "4                 NaN               1.0          5-6 hours      Unhealthy   \n",
       "\n",
       "    Degree Have you ever had suicidal thoughts ?  Work/Study Hours  \\\n",
       "0      BHM                                    No               1.0   \n",
       "1      LLB                                   Yes               7.0   \n",
       "2  B.Pharm                                   Yes               3.0   \n",
       "3      BBA                                   Yes              10.0   \n",
       "4      BBA                                   Yes               9.0   \n",
       "\n",
       "   Financial Stress Family History of Mental Illness  Depression  \n",
       "0               2.0                               No           0  \n",
       "1               3.0                               No           1  \n",
       "2               1.0                               No           1  \n",
       "3               1.0                              Yes           1  \n",
       "4               4.0                              Yes           0  "
      ]
     },
     "execution_count": 3,
     "metadata": {},
     "output_type": "execute_result"
    }
   ],
   "source": [
    "train.head()"
   ]
  },
  {
   "cell_type": "code",
   "execution_count": 4,
   "id": "3f92d768",
   "metadata": {
    "execution": {
     "iopub.execute_input": "2024-11-20T13:12:38.546577Z",
     "iopub.status.busy": "2024-11-20T13:12:38.546292Z",
     "iopub.status.idle": "2024-11-20T13:12:38.623591Z",
     "shell.execute_reply": "2024-11-20T13:12:38.622598Z"
    },
    "papermill": {
     "duration": 0.086064,
     "end_time": "2024-11-20T13:12:38.625617",
     "exception": false,
     "start_time": "2024-11-20T13:12:38.539553",
     "status": "completed"
    },
    "tags": []
   },
   "outputs": [
    {
     "name": "stdout",
     "output_type": "stream",
     "text": [
      "<class 'pandas.core.frame.DataFrame'>\n",
      "RangeIndex: 140700 entries, 0 to 140699\n",
      "Data columns (total 20 columns):\n",
      " #   Column                                 Non-Null Count   Dtype  \n",
      "---  ------                                 --------------   -----  \n",
      " 0   id                                     140700 non-null  int64  \n",
      " 1   Name                                   140700 non-null  object \n",
      " 2   Gender                                 140700 non-null  object \n",
      " 3   Age                                    140700 non-null  float64\n",
      " 4   City                                   140700 non-null  object \n",
      " 5   Working Professional or Student        140700 non-null  object \n",
      " 6   Profession                             104070 non-null  object \n",
      " 7   Academic Pressure                      27897 non-null   float64\n",
      " 8   Work Pressure                          112782 non-null  float64\n",
      " 9   CGPA                                   27898 non-null   float64\n",
      " 10  Study Satisfaction                     27897 non-null   float64\n",
      " 11  Job Satisfaction                       112790 non-null  float64\n",
      " 12  Sleep Duration                         140700 non-null  object \n",
      " 13  Dietary Habits                         140696 non-null  object \n",
      " 14  Degree                                 140698 non-null  object \n",
      " 15  Have you ever had suicidal thoughts ?  140700 non-null  object \n",
      " 16  Work/Study Hours                       140700 non-null  float64\n",
      " 17  Financial Stress                       140696 non-null  float64\n",
      " 18  Family History of Mental Illness       140700 non-null  object \n",
      " 19  Depression                             140700 non-null  int64  \n",
      "dtypes: float64(8), int64(2), object(10)\n",
      "memory usage: 21.5+ MB\n"
     ]
    }
   ],
   "source": [
    "train.info()"
   ]
  },
  {
   "cell_type": "code",
   "execution_count": 5,
   "id": "54850067",
   "metadata": {
    "execution": {
     "iopub.execute_input": "2024-11-20T13:12:38.639534Z",
     "iopub.status.busy": "2024-11-20T13:12:38.639253Z",
     "iopub.status.idle": "2024-11-20T13:12:38.724895Z",
     "shell.execute_reply": "2024-11-20T13:12:38.724035Z"
    },
    "papermill": {
     "duration": 0.094324,
     "end_time": "2024-11-20T13:12:38.726611",
     "exception": false,
     "start_time": "2024-11-20T13:12:38.632287",
     "status": "completed"
    },
    "tags": []
   },
   "outputs": [
    {
     "data": {
      "text/html": [
       "<div>\n",
       "<style scoped>\n",
       "    .dataframe tbody tr th:only-of-type {\n",
       "        vertical-align: middle;\n",
       "    }\n",
       "\n",
       "    .dataframe tbody tr th {\n",
       "        vertical-align: top;\n",
       "    }\n",
       "\n",
       "    .dataframe thead th {\n",
       "        text-align: right;\n",
       "    }\n",
       "</style>\n",
       "<table border=\"1\" class=\"dataframe\">\n",
       "  <thead>\n",
       "    <tr style=\"text-align: right;\">\n",
       "      <th></th>\n",
       "      <th>count</th>\n",
       "      <th>mean</th>\n",
       "      <th>std</th>\n",
       "      <th>min</th>\n",
       "      <th>25%</th>\n",
       "      <th>50%</th>\n",
       "      <th>75%</th>\n",
       "      <th>max</th>\n",
       "    </tr>\n",
       "  </thead>\n",
       "  <tbody>\n",
       "    <tr>\n",
       "      <th>id</th>\n",
       "      <td>140700.0</td>\n",
       "      <td>70349.500000</td>\n",
       "      <td>40616.735775</td>\n",
       "      <td>0.00</td>\n",
       "      <td>35174.75</td>\n",
       "      <td>70349.50</td>\n",
       "      <td>105524.25</td>\n",
       "      <td>140699.0</td>\n",
       "    </tr>\n",
       "    <tr>\n",
       "      <th>Age</th>\n",
       "      <td>140700.0</td>\n",
       "      <td>40.388621</td>\n",
       "      <td>12.384099</td>\n",
       "      <td>18.00</td>\n",
       "      <td>29.00</td>\n",
       "      <td>42.00</td>\n",
       "      <td>51.00</td>\n",
       "      <td>60.0</td>\n",
       "    </tr>\n",
       "    <tr>\n",
       "      <th>Academic Pressure</th>\n",
       "      <td>27897.0</td>\n",
       "      <td>3.142273</td>\n",
       "      <td>1.380457</td>\n",
       "      <td>1.00</td>\n",
       "      <td>2.00</td>\n",
       "      <td>3.00</td>\n",
       "      <td>4.00</td>\n",
       "      <td>5.0</td>\n",
       "    </tr>\n",
       "    <tr>\n",
       "      <th>Work Pressure</th>\n",
       "      <td>112782.0</td>\n",
       "      <td>2.998998</td>\n",
       "      <td>1.405771</td>\n",
       "      <td>1.00</td>\n",
       "      <td>2.00</td>\n",
       "      <td>3.00</td>\n",
       "      <td>4.00</td>\n",
       "      <td>5.0</td>\n",
       "    </tr>\n",
       "    <tr>\n",
       "      <th>CGPA</th>\n",
       "      <td>27898.0</td>\n",
       "      <td>7.658636</td>\n",
       "      <td>1.464466</td>\n",
       "      <td>5.03</td>\n",
       "      <td>6.29</td>\n",
       "      <td>7.77</td>\n",
       "      <td>8.92</td>\n",
       "      <td>10.0</td>\n",
       "    </tr>\n",
       "    <tr>\n",
       "      <th>Study Satisfaction</th>\n",
       "      <td>27897.0</td>\n",
       "      <td>2.944940</td>\n",
       "      <td>1.360197</td>\n",
       "      <td>1.00</td>\n",
       "      <td>2.00</td>\n",
       "      <td>3.00</td>\n",
       "      <td>4.00</td>\n",
       "      <td>5.0</td>\n",
       "    </tr>\n",
       "    <tr>\n",
       "      <th>Job Satisfaction</th>\n",
       "      <td>112790.0</td>\n",
       "      <td>2.974404</td>\n",
       "      <td>1.416078</td>\n",
       "      <td>1.00</td>\n",
       "      <td>2.00</td>\n",
       "      <td>3.00</td>\n",
       "      <td>4.00</td>\n",
       "      <td>5.0</td>\n",
       "    </tr>\n",
       "    <tr>\n",
       "      <th>Work/Study Hours</th>\n",
       "      <td>140700.0</td>\n",
       "      <td>6.252679</td>\n",
       "      <td>3.853615</td>\n",
       "      <td>0.00</td>\n",
       "      <td>3.00</td>\n",
       "      <td>6.00</td>\n",
       "      <td>10.00</td>\n",
       "      <td>12.0</td>\n",
       "    </tr>\n",
       "    <tr>\n",
       "      <th>Financial Stress</th>\n",
       "      <td>140696.0</td>\n",
       "      <td>2.988983</td>\n",
       "      <td>1.413633</td>\n",
       "      <td>1.00</td>\n",
       "      <td>2.00</td>\n",
       "      <td>3.00</td>\n",
       "      <td>4.00</td>\n",
       "      <td>5.0</td>\n",
       "    </tr>\n",
       "    <tr>\n",
       "      <th>Depression</th>\n",
       "      <td>140700.0</td>\n",
       "      <td>0.181713</td>\n",
       "      <td>0.385609</td>\n",
       "      <td>0.00</td>\n",
       "      <td>0.00</td>\n",
       "      <td>0.00</td>\n",
       "      <td>0.00</td>\n",
       "      <td>1.0</td>\n",
       "    </tr>\n",
       "  </tbody>\n",
       "</table>\n",
       "</div>"
      ],
      "text/plain": [
       "                       count          mean           std    min       25%  \\\n",
       "id                  140700.0  70349.500000  40616.735775   0.00  35174.75   \n",
       "Age                 140700.0     40.388621     12.384099  18.00     29.00   \n",
       "Academic Pressure    27897.0      3.142273      1.380457   1.00      2.00   \n",
       "Work Pressure       112782.0      2.998998      1.405771   1.00      2.00   \n",
       "CGPA                 27898.0      7.658636      1.464466   5.03      6.29   \n",
       "Study Satisfaction   27897.0      2.944940      1.360197   1.00      2.00   \n",
       "Job Satisfaction    112790.0      2.974404      1.416078   1.00      2.00   \n",
       "Work/Study Hours    140700.0      6.252679      3.853615   0.00      3.00   \n",
       "Financial Stress    140696.0      2.988983      1.413633   1.00      2.00   \n",
       "Depression          140700.0      0.181713      0.385609   0.00      0.00   \n",
       "\n",
       "                         50%        75%       max  \n",
       "id                  70349.50  105524.25  140699.0  \n",
       "Age                    42.00      51.00      60.0  \n",
       "Academic Pressure       3.00       4.00       5.0  \n",
       "Work Pressure           3.00       4.00       5.0  \n",
       "CGPA                    7.77       8.92      10.0  \n",
       "Study Satisfaction      3.00       4.00       5.0  \n",
       "Job Satisfaction        3.00       4.00       5.0  \n",
       "Work/Study Hours        6.00      10.00      12.0  \n",
       "Financial Stress        3.00       4.00       5.0  \n",
       "Depression              0.00       0.00       1.0  "
      ]
     },
     "execution_count": 5,
     "metadata": {},
     "output_type": "execute_result"
    }
   ],
   "source": [
    "train.describe().T"
   ]
  },
  {
   "cell_type": "code",
   "execution_count": 6,
   "id": "5f55796b",
   "metadata": {
    "execution": {
     "iopub.execute_input": "2024-11-20T13:12:38.740743Z",
     "iopub.status.busy": "2024-11-20T13:12:38.740439Z",
     "iopub.status.idle": "2024-11-20T13:12:38.801350Z",
     "shell.execute_reply": "2024-11-20T13:12:38.800596Z"
    },
    "papermill": {
     "duration": 0.069614,
     "end_time": "2024-11-20T13:12:38.802941",
     "exception": false,
     "start_time": "2024-11-20T13:12:38.733327",
     "status": "completed"
    },
    "tags": []
   },
   "outputs": [
    {
     "data": {
      "text/plain": [
       "id                                            0\n",
       "Name                                          0\n",
       "Gender                                        0\n",
       "Age                                           0\n",
       "City                                          0\n",
       "Working Professional or Student               0\n",
       "Profession                                36630\n",
       "Academic Pressure                        112803\n",
       "Work Pressure                             27918\n",
       "CGPA                                     112802\n",
       "Study Satisfaction                       112803\n",
       "Job Satisfaction                          27910\n",
       "Sleep Duration                                0\n",
       "Dietary Habits                                4\n",
       "Degree                                        2\n",
       "Have you ever had suicidal thoughts ?         0\n",
       "Work/Study Hours                              0\n",
       "Financial Stress                              4\n",
       "Family History of Mental Illness              0\n",
       "Depression                                    0\n",
       "dtype: int64"
      ]
     },
     "execution_count": 6,
     "metadata": {},
     "output_type": "execute_result"
    }
   ],
   "source": [
    "train.isnull().sum()"
   ]
  },
  {
   "cell_type": "markdown",
   "id": "fdc9a699",
   "metadata": {
    "papermill": {
     "duration": 0.006096,
     "end_time": "2024-11-20T13:12:38.815379",
     "exception": false,
     "start_time": "2024-11-20T13:12:38.809283",
     "status": "completed"
    },
    "tags": []
   },
   "source": [
    "# <p style=\"background-color: #4CAF50; font-family: 'Arial', sans-serif; font-weight: bold; color: #FFFFFF; font-size: 80%; text-align: center; border: 1px solid #FFFFFF; border-radius: 10px; padding: 10px; box-shadow: 0 4px 15px rgba(0, 0, 0, 0.2);\">🧹 Cleaning & Preprocessing (Cleaning the Mess!)</p>\n"
   ]
  },
  {
   "cell_type": "code",
   "execution_count": 7,
   "id": "41f3a33a",
   "metadata": {
    "execution": {
     "iopub.execute_input": "2024-11-20T13:12:38.828905Z",
     "iopub.status.busy": "2024-11-20T13:12:38.828635Z",
     "iopub.status.idle": "2024-11-20T13:12:38.832577Z",
     "shell.execute_reply": "2024-11-20T13:12:38.831869Z"
    },
    "papermill": {
     "duration": 0.012512,
     "end_time": "2024-11-20T13:12:38.834183",
     "exception": false,
     "start_time": "2024-11-20T13:12:38.821671",
     "status": "completed"
    },
    "tags": []
   },
   "outputs": [],
   "source": [
    "dietary_mapping = {\n",
    "    'More Healthy': 'Healthy',\n",
    "    'Yes': 'Healthy',\n",
    "    'No': 'Unhealthy',\n",
    "    'No Healthy': 'Unhealthy',\n",
    "    'Less Healthy': 'Moderate',\n",
    "    'Less than Healthy': 'Unhealthy',\n",
    "    'Hormonal': 'Moderate'\n",
    "}\n",
    "\n",
    "values_to_replace = [\n",
    "    'Pratham', 'BSc', 'Gender', '3', 'Mihir', '1.0', \n",
    "    'Electrician', 'M.Tech', 'Vegas', 'Male', \n",
    "    'Indoor', 'Class 12', '2'\n",
    "]"
   ]
  },
  {
   "cell_type": "code",
   "execution_count": 8,
   "id": "dcff426d",
   "metadata": {
    "execution": {
     "iopub.execute_input": "2024-11-20T13:12:38.847702Z",
     "iopub.status.busy": "2024-11-20T13:12:38.847439Z",
     "iopub.status.idle": "2024-11-20T13:12:38.853486Z",
     "shell.execute_reply": "2024-11-20T13:12:38.852702Z"
    },
    "papermill": {
     "duration": 0.014642,
     "end_time": "2024-11-20T13:12:38.855133",
     "exception": false,
     "start_time": "2024-11-20T13:12:38.840491",
     "status": "completed"
    },
    "tags": []
   },
   "outputs": [],
   "source": [
    "degree = {\n",
    "    \"BCom\": \"B.Com\", \"B.Com\": \"B.Com\", \"B.Comm\": \"B.Com\",\n",
    "    \"B.Tech\": \"B.Tech\", \"BTech\": \"B.Tech\", \"B.T\": \"B.Tech\",\n",
    "    \"BSc\": \"B.Sc\", \"B.Sc\": \"B.Sc\", \"Bachelor of Science\": \"B.Sc\",\n",
    "    \"BArch\": \"B.Arch\", \"B.Arch\": \"B.Arch\",\n",
    "    \"BA\": \"B.A\", \"B.A\": \"B.A\",\n",
    "    \"BBA\": \"BBA\", \"BB\": \"BBA\",\n",
    "    \"BCA\": \"BCA\",\n",
    "    \"BE\": \"BE\",\n",
    "    \"BEd\": \"B.Ed\", \"B.Ed\": \"B.Ed\",\n",
    "    \"BPharm\": \"B.Pharm\", \"B.Pharm\": \"B.Pharm\",\n",
    "    \"BHM\": \"BHM\",\n",
    "    \"LLB\": \"LLB\", \"LL B\": \"LLB\", \"LL BA\": \"LLB\", \"LL.Com\": \"LLB\", \"LLCom\": \"LLB\",\n",
    "    \"MCom\": \"M.Com\", \"M.Com\": \"M.Com\",\n",
    "    \"M.Tech\": \"M.Tech\", \"MTech\": \"M.Tech\", \"M.T\": \"M.Tech\",\n",
    "    \"MSc\": \"M.Sc\", \"M.Sc\": \"M.Sc\", \"Master of Science\": \"M.Sc\",\n",
    "    \"MBA\": \"MBA\",\n",
    "    \"MCA\": \"MCA\",\n",
    "    \"MD\": \"MD\",\n",
    "    \"ME\": \"ME\",\n",
    "    \"MEd\": \"M.Ed\", \"M.Ed\": \"M.Ed\",\n",
    "    \"MArch\": \"M.Arch\", \"M.Arch\": \"M.Arch\",\n",
    "    \"MPharm\": \"M.Pharm\", \"M.Pharm\": \"M.Pharm\",\n",
    "    \"MA\": \"MA\", \"M.A\": \"MA\",\n",
    "    \"MPA\": \"MPA\",\n",
    "    \"LLM\": \"LLM\",\n",
    "    \"PhD\": \"PhD\",\n",
    "    \"MBBS\": \"MBBS\",\n",
    "    \"CA\": \"CA\",\n",
    "    \"Class 12\": \"Class 12\", \"12th\": \"Class 12\",\n",
    "    \"Class 11\": \"Class 11\", \"11th\": \"Class 11\"\n",
    "}"
   ]
  },
  {
   "cell_type": "code",
   "execution_count": 9,
   "id": "3632c126",
   "metadata": {
    "execution": {
     "iopub.execute_input": "2024-11-20T13:12:38.868809Z",
     "iopub.status.busy": "2024-11-20T13:12:38.868556Z",
     "iopub.status.idle": "2024-11-20T13:12:38.873149Z",
     "shell.execute_reply": "2024-11-20T13:12:38.872436Z"
    },
    "papermill": {
     "duration": 0.013286,
     "end_time": "2024-11-20T13:12:38.874678",
     "exception": false,
     "start_time": "2024-11-20T13:12:38.861392",
     "status": "completed"
    },
    "tags": []
   },
   "outputs": [],
   "source": [
    "def categorize_degree(degree_name):\n",
    "    pg = {\"M.Com\", \"M.Tech\", \"M.Sc\", \"MBA\", \"MCA\", \"MD\", \"ME\", \"M.Ed\", \"M.Arch\", \"M.Pharm\", \"MA\", \"MPA\", \"LLM\", \"PhD\"}\n",
    "    ug = {\"B.Com\", \"B.Tech\", \"B.Sc\", \"B.Arch\", \"B.A\", \"BBA\", \"BCA\", \"BE\", \"B.Ed\", \"B.Pharm\", \"BHM\", \"LLB\"}\n",
    "    schooling = {\"Class 12\", \"Class 11\"}\n",
    "    \n",
    "    if degree_name in pg:\n",
    "        return \"PG\"\n",
    "    elif degree_name in ug:\n",
    "        return \"UG\"\n",
    "    elif degree_name in schooling:\n",
    "        return \"Schooling\"\n",
    "    else:\n",
    "        return \"Unknown\""
   ]
  },
  {
   "cell_type": "code",
   "execution_count": 10,
   "id": "9393b6f3",
   "metadata": {
    "execution": {
     "iopub.execute_input": "2024-11-20T13:12:38.888170Z",
     "iopub.status.busy": "2024-11-20T13:12:38.887922Z",
     "iopub.status.idle": "2024-11-20T13:12:38.891964Z",
     "shell.execute_reply": "2024-11-20T13:12:38.891288Z"
    },
    "papermill": {
     "duration": 0.012394,
     "end_time": "2024-11-20T13:12:38.893508",
     "exception": false,
     "start_time": "2024-11-20T13:12:38.881114",
     "status": "completed"
    },
    "tags": []
   },
   "outputs": [],
   "source": [
    "def categorize_sleep_duration(duration):\n",
    "    if 'Less than 5 hours' in duration or '1-2 hours' in duration or 'No' in duration:\n",
    "        return 'Less than 5 hours'\n",
    "    elif '6-8 hours' in duration or '5-6 hours' in duration or '6-7 hours' in duration:\n",
    "        return '6-8 hours'\n",
    "    elif 'More than 8 hours' in duration or '9-11 hours' in duration or '10-11 hours' in duration:\n",
    "        return 'More than 8 hours'\n",
    "    else:\n",
    "        return 'Other'"
   ]
  },
  {
   "cell_type": "code",
   "execution_count": 11,
   "id": "819325bf",
   "metadata": {
    "execution": {
     "iopub.execute_input": "2024-11-20T13:12:38.907534Z",
     "iopub.status.busy": "2024-11-20T13:12:38.906858Z",
     "iopub.status.idle": "2024-11-20T13:12:39.556718Z",
     "shell.execute_reply": "2024-11-20T13:12:39.555773Z"
    },
    "papermill": {
     "duration": 0.658896,
     "end_time": "2024-11-20T13:12:39.558708",
     "exception": false,
     "start_time": "2024-11-20T13:12:38.899812",
     "status": "completed"
    },
    "tags": []
   },
   "outputs": [],
   "source": [
    "# Drop Column\n",
    "train.drop(columns=['id','Name'], inplace=True) \n",
    "\n",
    "# Fill na with mode\n",
    "mode1 = train['Financial Stress'].mode()[0]  \n",
    "train['Financial Stress'].fillna(mode1, inplace=True)\n",
    "\n",
    "mode2 = train['Degree'].mode()[0]  \n",
    "train['Degree'].fillna(mode2, inplace=True)\n",
    "\n",
    "mean1 = round(train['CGPA'].mean())\n",
    "train['CGPA'].fillna(mean1, inplace=True)\n",
    "\n",
    "train['Academic Pressure'].fillna(0, inplace=True)\n",
    "train['Profession'].fillna('unknown', inplace=True)\n",
    "train['Work Pressure'].fillna(0, inplace=True)\n",
    "train.replace(values_to_replace, 'Unknown', inplace=True)\n",
    "train['Dietary Habits'].replace(dietary_mapping, inplace=True)\n",
    "train['Dietary Habits'].fillna('Unknown', inplace=True)\n",
    "train['Job Satisfaction'].fillna(0, inplace=True)\n",
    "train['Study Satisfaction'].fillna(0, inplace=True)\n",
    "train['Degree'] = train['Degree'].map(degree).fillna('Unknown')\n",
    "train['Degree_Category'] = train['Degree'].apply(categorize_degree)\n",
    "train = train.drop(columns=['Degree'])\n",
    "train['Sleep Duration'] = train['Sleep Duration'].apply(categorize_sleep_duration)\n",
    "\n",
    "# Data type conversion\n",
    "train['Age'] = train['Age'].astype(int)\n",
    "train['Financial Stress'] = train['Financial Stress'].astype(int)\n",
    "train['Work/Study Hours'] = train['Work/Study Hours'].astype(int)\n",
    "train['Academic Pressure'] = train['Academic Pressure'].astype(int)\n",
    "train['Work Pressure'] = train['Work Pressure'].astype(int)\n",
    "train['Job Satisfaction'] = train['Job Satisfaction'].astype(int)\n",
    "train['Study Satisfaction'] = train['Study Satisfaction'].astype(int)"
   ]
  },
  {
   "cell_type": "code",
   "execution_count": 12,
   "id": "4f54d812",
   "metadata": {
    "execution": {
     "iopub.execute_input": "2024-11-20T13:12:39.574480Z",
     "iopub.status.busy": "2024-11-20T13:12:39.573949Z",
     "iopub.status.idle": "2024-11-20T13:12:39.989216Z",
     "shell.execute_reply": "2024-11-20T13:12:39.988123Z"
    },
    "papermill": {
     "duration": 0.424999,
     "end_time": "2024-11-20T13:12:39.991389",
     "exception": false,
     "start_time": "2024-11-20T13:12:39.566390",
     "status": "completed"
    },
    "tags": []
   },
   "outputs": [],
   "source": [
    "# Drop Column\n",
    "test.drop(columns=['id','Name'], inplace=True)\n",
    "\n",
    "# Fill na with mode\n",
    "mode1 = test['Financial Stress'].mode()[0]  \n",
    "test['Financial Stress'].fillna(mode1, inplace=True)\n",
    "\n",
    "mode2 = test['Degree'].mode()[0]  \n",
    "test['Degree'].fillna(mode2, inplace=True)\n",
    "\n",
    "mean1 = round(test['CGPA'].mean())\n",
    "test['CGPA'].fillna(mean1, inplace=True)\n",
    "\n",
    "test['Academic Pressure'].fillna(0, inplace=True)\n",
    "test['Profession'].fillna('unknown', inplace=True)\n",
    "test['Work Pressure'].fillna(0, inplace=True)\n",
    "test.replace(values_to_replace, 'Unknown', inplace=True)\n",
    "test['Dietary Habits'].replace(dietary_mapping, inplace=True)\n",
    "test['Dietary Habits'].fillna('Unknown', inplace=True)\n",
    "test['Job Satisfaction'].fillna(0, inplace=True)\n",
    "test['Study Satisfaction'].fillna(0, inplace=True)\n",
    "test['Degree'] = test['Degree'].map(degree).fillna('Unknown')\n",
    "test['Degree_Category'] = test['Degree'].apply(categorize_degree)\n",
    "test = test.drop(columns=['Degree'])\n",
    "test['Sleep Duration'] = test['Sleep Duration'].apply(categorize_sleep_duration)\n",
    "\n",
    "# Data type conversion\n",
    "test['Age'] = test['Age'].astype(int)\n",
    "test['Financial Stress'] = test['Financial Stress'].astype(int)\n",
    "test['Work/Study Hours'] = test['Work/Study Hours'].astype(int)\n",
    "test['Academic Pressure'] = test['Academic Pressure'].astype(int)\n",
    "test['Work Pressure'] = test['Work Pressure'].astype(int)\n",
    "test['Job Satisfaction'] = test['Job Satisfaction'].astype(int)\n",
    "test['Study Satisfaction'] = test['Study Satisfaction'].astype(int)"
   ]
  },
  {
   "cell_type": "code",
   "execution_count": 13,
   "id": "f2b9625b",
   "metadata": {
    "execution": {
     "iopub.execute_input": "2024-11-20T13:12:40.005876Z",
     "iopub.status.busy": "2024-11-20T13:12:40.005554Z",
     "iopub.status.idle": "2024-11-20T13:12:40.064235Z",
     "shell.execute_reply": "2024-11-20T13:12:40.063264Z"
    },
    "papermill": {
     "duration": 0.067681,
     "end_time": "2024-11-20T13:12:40.065981",
     "exception": false,
     "start_time": "2024-11-20T13:12:39.998300",
     "status": "completed"
    },
    "tags": []
   },
   "outputs": [
    {
     "data": {
      "text/plain": [
       "Gender                                   0\n",
       "Age                                      0\n",
       "City                                     0\n",
       "Working Professional or Student          0\n",
       "Profession                               0\n",
       "Academic Pressure                        0\n",
       "Work Pressure                            0\n",
       "CGPA                                     0\n",
       "Study Satisfaction                       0\n",
       "Job Satisfaction                         0\n",
       "Sleep Duration                           0\n",
       "Dietary Habits                           0\n",
       "Have you ever had suicidal thoughts ?    0\n",
       "Work/Study Hours                         0\n",
       "Financial Stress                         0\n",
       "Family History of Mental Illness         0\n",
       "Depression                               0\n",
       "Degree_Category                          0\n",
       "dtype: int64"
      ]
     },
     "execution_count": 13,
     "metadata": {},
     "output_type": "execute_result"
    }
   ],
   "source": [
    "train.isnull().sum()"
   ]
  },
  {
   "cell_type": "code",
   "execution_count": 14,
   "id": "686aff8c",
   "metadata": {
    "execution": {
     "iopub.execute_input": "2024-11-20T13:12:40.080582Z",
     "iopub.status.busy": "2024-11-20T13:12:40.080325Z",
     "iopub.status.idle": "2024-11-20T13:12:40.102585Z",
     "shell.execute_reply": "2024-11-20T13:12:40.101543Z"
    },
    "papermill": {
     "duration": 0.031307,
     "end_time": "2024-11-20T13:12:40.104416",
     "exception": false,
     "start_time": "2024-11-20T13:12:40.073109",
     "status": "completed"
    },
    "tags": []
   },
   "outputs": [
    {
     "name": "stdout",
     "output_type": "stream",
     "text": [
      "Object Column Names: ['Gender', 'City', 'Working Professional or Student', 'Profession', 'Sleep Duration', 'Dietary Habits', 'Have you ever had suicidal thoughts ?', 'Family History of Mental Illness', 'Degree_Category']\n"
     ]
    }
   ],
   "source": [
    "cat_col = train.select_dtypes(include=['object']).columns\n",
    "print(\"Object Column Names:\", cat_col.tolist())"
   ]
  },
  {
   "cell_type": "code",
   "execution_count": 15,
   "id": "c70f12e9",
   "metadata": {
    "execution": {
     "iopub.execute_input": "2024-11-20T13:12:40.119666Z",
     "iopub.status.busy": "2024-11-20T13:12:40.119350Z",
     "iopub.status.idle": "2024-11-20T13:12:40.123275Z",
     "shell.execute_reply": "2024-11-20T13:12:40.122623Z"
    },
    "papermill": {
     "duration": 0.012931,
     "end_time": "2024-11-20T13:12:40.124818",
     "exception": false,
     "start_time": "2024-11-20T13:12:40.111887",
     "status": "completed"
    },
    "tags": []
   },
   "outputs": [],
   "source": [
    "object_columns = ['Gender', 'City', 'Working Professional or Student', 'Profession', \n",
    "                  'Sleep Duration', 'Dietary Habits', 'Have you ever had suicidal thoughts ?', \n",
    "                  'Family History of Mental Illness', 'Degree_Category']"
   ]
  },
  {
   "cell_type": "code",
   "execution_count": 16,
   "id": "77c1ec74",
   "metadata": {
    "execution": {
     "iopub.execute_input": "2024-11-20T13:12:40.139244Z",
     "iopub.status.busy": "2024-11-20T13:12:40.139014Z",
     "iopub.status.idle": "2024-11-20T13:12:40.329002Z",
     "shell.execute_reply": "2024-11-20T13:12:40.328051Z"
    },
    "papermill": {
     "duration": 0.199552,
     "end_time": "2024-11-20T13:12:40.331082",
     "exception": false,
     "start_time": "2024-11-20T13:12:40.131530",
     "status": "completed"
    },
    "tags": []
   },
   "outputs": [],
   "source": [
    "label_encoder = LabelEncoder()\n",
    "\n",
    "for column in object_columns:\n",
    "    train[column] = label_encoder.fit_transform(train[column])"
   ]
  },
  {
   "cell_type": "code",
   "execution_count": 17,
   "id": "63aa2118",
   "metadata": {
    "execution": {
     "iopub.execute_input": "2024-11-20T13:12:40.345701Z",
     "iopub.status.busy": "2024-11-20T13:12:40.345382Z",
     "iopub.status.idle": "2024-11-20T13:12:40.357229Z",
     "shell.execute_reply": "2024-11-20T13:12:40.356392Z"
    },
    "papermill": {
     "duration": 0.020862,
     "end_time": "2024-11-20T13:12:40.358860",
     "exception": false,
     "start_time": "2024-11-20T13:12:40.337998",
     "status": "completed"
    },
    "tags": []
   },
   "outputs": [
    {
     "data": {
      "text/html": [
       "<div>\n",
       "<style scoped>\n",
       "    .dataframe tbody tr th:only-of-type {\n",
       "        vertical-align: middle;\n",
       "    }\n",
       "\n",
       "    .dataframe tbody tr th {\n",
       "        vertical-align: top;\n",
       "    }\n",
       "\n",
       "    .dataframe thead th {\n",
       "        text-align: right;\n",
       "    }\n",
       "</style>\n",
       "<table border=\"1\" class=\"dataframe\">\n",
       "  <thead>\n",
       "    <tr style=\"text-align: right;\">\n",
       "      <th></th>\n",
       "      <th>Gender</th>\n",
       "      <th>Age</th>\n",
       "      <th>City</th>\n",
       "      <th>Working Professional or Student</th>\n",
       "      <th>Profession</th>\n",
       "      <th>Academic Pressure</th>\n",
       "      <th>Work Pressure</th>\n",
       "      <th>CGPA</th>\n",
       "      <th>Study Satisfaction</th>\n",
       "      <th>Job Satisfaction</th>\n",
       "      <th>Sleep Duration</th>\n",
       "      <th>Dietary Habits</th>\n",
       "      <th>Have you ever had suicidal thoughts ?</th>\n",
       "      <th>Work/Study Hours</th>\n",
       "      <th>Financial Stress</th>\n",
       "      <th>Family History of Mental Illness</th>\n",
       "      <th>Depression</th>\n",
       "      <th>Degree_Category</th>\n",
       "    </tr>\n",
       "  </thead>\n",
       "  <tbody>\n",
       "    <tr>\n",
       "      <th>0</th>\n",
       "      <td>0</td>\n",
       "      <td>49</td>\n",
       "      <td>50</td>\n",
       "      <td>1</td>\n",
       "      <td>10</td>\n",
       "      <td>0</td>\n",
       "      <td>5</td>\n",
       "      <td>8.00</td>\n",
       "      <td>0</td>\n",
       "      <td>2</td>\n",
       "      <td>2</td>\n",
       "      <td>0</td>\n",
       "      <td>0</td>\n",
       "      <td>1</td>\n",
       "      <td>2</td>\n",
       "      <td>0</td>\n",
       "      <td>0</td>\n",
       "      <td>2</td>\n",
       "    </tr>\n",
       "    <tr>\n",
       "      <th>1</th>\n",
       "      <td>1</td>\n",
       "      <td>26</td>\n",
       "      <td>92</td>\n",
       "      <td>1</td>\n",
       "      <td>54</td>\n",
       "      <td>0</td>\n",
       "      <td>4</td>\n",
       "      <td>8.00</td>\n",
       "      <td>0</td>\n",
       "      <td>3</td>\n",
       "      <td>1</td>\n",
       "      <td>2</td>\n",
       "      <td>1</td>\n",
       "      <td>7</td>\n",
       "      <td>3</td>\n",
       "      <td>0</td>\n",
       "      <td>1</td>\n",
       "      <td>2</td>\n",
       "    </tr>\n",
       "    <tr>\n",
       "      <th>2</th>\n",
       "      <td>1</td>\n",
       "      <td>33</td>\n",
       "      <td>96</td>\n",
       "      <td>0</td>\n",
       "      <td>64</td>\n",
       "      <td>5</td>\n",
       "      <td>0</td>\n",
       "      <td>8.97</td>\n",
       "      <td>2</td>\n",
       "      <td>0</td>\n",
       "      <td>0</td>\n",
       "      <td>0</td>\n",
       "      <td>1</td>\n",
       "      <td>3</td>\n",
       "      <td>1</td>\n",
       "      <td>0</td>\n",
       "      <td>1</td>\n",
       "      <td>2</td>\n",
       "    </tr>\n",
       "    <tr>\n",
       "      <th>3</th>\n",
       "      <td>1</td>\n",
       "      <td>22</td>\n",
       "      <td>62</td>\n",
       "      <td>1</td>\n",
       "      <td>54</td>\n",
       "      <td>0</td>\n",
       "      <td>5</td>\n",
       "      <td>8.00</td>\n",
       "      <td>0</td>\n",
       "      <td>1</td>\n",
       "      <td>1</td>\n",
       "      <td>1</td>\n",
       "      <td>1</td>\n",
       "      <td>10</td>\n",
       "      <td>1</td>\n",
       "      <td>1</td>\n",
       "      <td>1</td>\n",
       "      <td>2</td>\n",
       "    </tr>\n",
       "    <tr>\n",
       "      <th>4</th>\n",
       "      <td>0</td>\n",
       "      <td>30</td>\n",
       "      <td>37</td>\n",
       "      <td>1</td>\n",
       "      <td>9</td>\n",
       "      <td>0</td>\n",
       "      <td>1</td>\n",
       "      <td>8.00</td>\n",
       "      <td>0</td>\n",
       "      <td>1</td>\n",
       "      <td>0</td>\n",
       "      <td>2</td>\n",
       "      <td>1</td>\n",
       "      <td>9</td>\n",
       "      <td>4</td>\n",
       "      <td>1</td>\n",
       "      <td>0</td>\n",
       "      <td>2</td>\n",
       "    </tr>\n",
       "  </tbody>\n",
       "</table>\n",
       "</div>"
      ],
      "text/plain": [
       "   Gender  Age  City  Working Professional or Student  Profession  \\\n",
       "0       0   49    50                                1          10   \n",
       "1       1   26    92                                1          54   \n",
       "2       1   33    96                                0          64   \n",
       "3       1   22    62                                1          54   \n",
       "4       0   30    37                                1           9   \n",
       "\n",
       "   Academic Pressure  Work Pressure  CGPA  Study Satisfaction  \\\n",
       "0                  0              5  8.00                   0   \n",
       "1                  0              4  8.00                   0   \n",
       "2                  5              0  8.97                   2   \n",
       "3                  0              5  8.00                   0   \n",
       "4                  0              1  8.00                   0   \n",
       "\n",
       "   Job Satisfaction  Sleep Duration  Dietary Habits  \\\n",
       "0                 2               2               0   \n",
       "1                 3               1               2   \n",
       "2                 0               0               0   \n",
       "3                 1               1               1   \n",
       "4                 1               0               2   \n",
       "\n",
       "   Have you ever had suicidal thoughts ?  Work/Study Hours  Financial Stress  \\\n",
       "0                                      0                 1                 2   \n",
       "1                                      1                 7                 3   \n",
       "2                                      1                 3                 1   \n",
       "3                                      1                10                 1   \n",
       "4                                      1                 9                 4   \n",
       "\n",
       "   Family History of Mental Illness  Depression  Degree_Category  \n",
       "0                                 0           0                2  \n",
       "1                                 0           1                2  \n",
       "2                                 0           1                2  \n",
       "3                                 1           1                2  \n",
       "4                                 1           0                2  "
      ]
     },
     "execution_count": 17,
     "metadata": {},
     "output_type": "execute_result"
    }
   ],
   "source": [
    "train.head()"
   ]
  },
  {
   "cell_type": "markdown",
   "id": "59f3d4aa",
   "metadata": {
    "papermill": {
     "duration": 0.006537,
     "end_time": "2024-11-20T13:12:40.372050",
     "exception": false,
     "start_time": "2024-11-20T13:12:40.365513",
     "status": "completed"
    },
    "tags": []
   },
   "source": [
    "# <p style=\"background-color: #4CAF50; font-family: 'Arial', sans-serif; font-weight: bold; color: #FFFFFF; font-size: 80%; text-align: center; border: 1px solid #FFFFFF; border-radius: 10px; padding: 10px; box-shadow: 0 4px 15px rgba(0, 0, 0, 0.2);\">💥 Splitting the Data (Time to Split & Conquer!)</p>\n"
   ]
  },
  {
   "cell_type": "code",
   "execution_count": 18,
   "id": "40b5980d",
   "metadata": {
    "execution": {
     "iopub.execute_input": "2024-11-20T13:12:40.386869Z",
     "iopub.status.busy": "2024-11-20T13:12:40.386574Z",
     "iopub.status.idle": "2024-11-20T13:12:40.405473Z",
     "shell.execute_reply": "2024-11-20T13:12:40.404874Z"
    },
    "papermill": {
     "duration": 0.028097,
     "end_time": "2024-11-20T13:12:40.407110",
     "exception": false,
     "start_time": "2024-11-20T13:12:40.379013",
     "status": "completed"
    },
    "tags": []
   },
   "outputs": [],
   "source": [
    "X = train.drop(['Depression'], axis=1)\n",
    "y = train['Depression']"
   ]
  },
  {
   "cell_type": "code",
   "execution_count": 19,
   "id": "57111bb1",
   "metadata": {
    "execution": {
     "iopub.execute_input": "2024-11-20T13:12:40.421732Z",
     "iopub.status.busy": "2024-11-20T13:12:40.421474Z",
     "iopub.status.idle": "2024-11-20T13:12:40.468134Z",
     "shell.execute_reply": "2024-11-20T13:12:40.467434Z"
    },
    "papermill": {
     "duration": 0.056212,
     "end_time": "2024-11-20T13:12:40.470016",
     "exception": false,
     "start_time": "2024-11-20T13:12:40.413804",
     "status": "completed"
    },
    "tags": []
   },
   "outputs": [],
   "source": [
    "X_train, X_test, y_train, y_test = train_test_split(X, y, test_size=0.1, random_state=42)"
   ]
  },
  {
   "cell_type": "code",
   "execution_count": 20,
   "id": "77f31e49",
   "metadata": {
    "execution": {
     "iopub.execute_input": "2024-11-20T13:12:40.484973Z",
     "iopub.status.busy": "2024-11-20T13:12:40.484707Z",
     "iopub.status.idle": "2024-11-20T13:12:40.489294Z",
     "shell.execute_reply": "2024-11-20T13:12:40.488428Z"
    },
    "papermill": {
     "duration": 0.013731,
     "end_time": "2024-11-20T13:12:40.490811",
     "exception": false,
     "start_time": "2024-11-20T13:12:40.477080",
     "status": "completed"
    },
    "tags": []
   },
   "outputs": [
    {
     "name": "stdout",
     "output_type": "stream",
     "text": [
      "X_train shape: (126630, 17)\n",
      "X_test shape: (14070, 17)\n",
      "y_train shape: (126630,)\n",
      "y_test shape: (14070,)\n"
     ]
    }
   ],
   "source": [
    "print(f\"X_train shape: {X_train.shape}\")\n",
    "print(f\"X_test shape: {X_test.shape}\")\n",
    "print(f\"y_train shape: {y_train.shape}\")\n",
    "print(f\"y_test shape: {y_test.shape}\")"
   ]
  },
  {
   "cell_type": "markdown",
   "id": "0b70bb24",
   "metadata": {
    "papermill": {
     "duration": 0.006527,
     "end_time": "2024-11-20T13:12:40.504116",
     "exception": false,
     "start_time": "2024-11-20T13:12:40.497589",
     "status": "completed"
    },
    "tags": []
   },
   "source": [
    "# <p style=\"background-color: #4CAF50; font-family: 'Arial', sans-serif; font-weight: bold; color: #FFFFFF; font-size: 80%; text-align: center; border: 1px solid #FFFFFF; border-radius: 10px; padding: 10px; box-shadow: 0 4px 15px rgba(0, 0, 0, 0.2);\">🧑‍🏫 Model Training (Train Your Mind, Train Your Model!)</p>\n"
   ]
  },
  {
   "cell_type": "code",
   "execution_count": 21,
   "id": "e2b9cde5",
   "metadata": {
    "execution": {
     "iopub.execute_input": "2024-11-20T13:12:40.518525Z",
     "iopub.status.busy": "2024-11-20T13:12:40.518280Z",
     "iopub.status.idle": "2024-11-20T13:12:40.558386Z",
     "shell.execute_reply": "2024-11-20T13:12:40.557475Z"
    },
    "papermill": {
     "duration": 0.04938,
     "end_time": "2024-11-20T13:12:40.560207",
     "exception": false,
     "start_time": "2024-11-20T13:12:40.510827",
     "status": "completed"
    },
    "tags": []
   },
   "outputs": [
    {
     "data": {
      "text/html": [
       "<style>#sk-container-id-1 {color: black;background-color: white;}#sk-container-id-1 pre{padding: 0;}#sk-container-id-1 div.sk-toggleable {background-color: white;}#sk-container-id-1 label.sk-toggleable__label {cursor: pointer;display: block;width: 100%;margin-bottom: 0;padding: 0.3em;box-sizing: border-box;text-align: center;}#sk-container-id-1 label.sk-toggleable__label-arrow:before {content: \"▸\";float: left;margin-right: 0.25em;color: #696969;}#sk-container-id-1 label.sk-toggleable__label-arrow:hover:before {color: black;}#sk-container-id-1 div.sk-estimator:hover label.sk-toggleable__label-arrow:before {color: black;}#sk-container-id-1 div.sk-toggleable__content {max-height: 0;max-width: 0;overflow: hidden;text-align: left;background-color: #f0f8ff;}#sk-container-id-1 div.sk-toggleable__content pre {margin: 0.2em;color: black;border-radius: 0.25em;background-color: #f0f8ff;}#sk-container-id-1 input.sk-toggleable__control:checked~div.sk-toggleable__content {max-height: 200px;max-width: 100%;overflow: auto;}#sk-container-id-1 input.sk-toggleable__control:checked~label.sk-toggleable__label-arrow:before {content: \"▾\";}#sk-container-id-1 div.sk-estimator input.sk-toggleable__control:checked~label.sk-toggleable__label {background-color: #d4ebff;}#sk-container-id-1 div.sk-label input.sk-toggleable__control:checked~label.sk-toggleable__label {background-color: #d4ebff;}#sk-container-id-1 input.sk-hidden--visually {border: 0;clip: rect(1px 1px 1px 1px);clip: rect(1px, 1px, 1px, 1px);height: 1px;margin: -1px;overflow: hidden;padding: 0;position: absolute;width: 1px;}#sk-container-id-1 div.sk-estimator {font-family: monospace;background-color: #f0f8ff;border: 1px dotted black;border-radius: 0.25em;box-sizing: border-box;margin-bottom: 0.5em;}#sk-container-id-1 div.sk-estimator:hover {background-color: #d4ebff;}#sk-container-id-1 div.sk-parallel-item::after {content: \"\";width: 100%;border-bottom: 1px solid gray;flex-grow: 1;}#sk-container-id-1 div.sk-label:hover label.sk-toggleable__label {background-color: #d4ebff;}#sk-container-id-1 div.sk-serial::before {content: \"\";position: absolute;border-left: 1px solid gray;box-sizing: border-box;top: 0;bottom: 0;left: 50%;z-index: 0;}#sk-container-id-1 div.sk-serial {display: flex;flex-direction: column;align-items: center;background-color: white;padding-right: 0.2em;padding-left: 0.2em;position: relative;}#sk-container-id-1 div.sk-item {position: relative;z-index: 1;}#sk-container-id-1 div.sk-parallel {display: flex;align-items: stretch;justify-content: center;background-color: white;position: relative;}#sk-container-id-1 div.sk-item::before, #sk-container-id-1 div.sk-parallel-item::before {content: \"\";position: absolute;border-left: 1px solid gray;box-sizing: border-box;top: 0;bottom: 0;left: 50%;z-index: -1;}#sk-container-id-1 div.sk-parallel-item {display: flex;flex-direction: column;z-index: 1;position: relative;background-color: white;}#sk-container-id-1 div.sk-parallel-item:first-child::after {align-self: flex-end;width: 50%;}#sk-container-id-1 div.sk-parallel-item:last-child::after {align-self: flex-start;width: 50%;}#sk-container-id-1 div.sk-parallel-item:only-child::after {width: 0;}#sk-container-id-1 div.sk-dashed-wrapped {border: 1px dashed gray;margin: 0 0.4em 0.5em 0.4em;box-sizing: border-box;padding-bottom: 0.4em;background-color: white;}#sk-container-id-1 div.sk-label label {font-family: monospace;font-weight: bold;display: inline-block;line-height: 1.2em;}#sk-container-id-1 div.sk-label-container {text-align: center;}#sk-container-id-1 div.sk-container {/* jupyter's `normalize.less` sets `[hidden] { display: none; }` but bootstrap.min.css set `[hidden] { display: none !important; }` so we also need the `!important` here to be able to override the default hidden behavior on the sphinx rendered scikit-learn.org. See: https://github.com/scikit-learn/scikit-learn/issues/21755 */display: inline-block !important;position: relative;}#sk-container-id-1 div.sk-text-repr-fallback {display: none;}</style><div id=\"sk-container-id-1\" class=\"sk-top-container\"><div class=\"sk-text-repr-fallback\"><pre>KNeighborsClassifier(metric=&#x27;manhattan&#x27;, n_neighbors=18, weights=&#x27;distance&#x27;)</pre><b>In a Jupyter environment, please rerun this cell to show the HTML representation or trust the notebook. <br />On GitHub, the HTML representation is unable to render, please try loading this page with nbviewer.org.</b></div><div class=\"sk-container\" hidden><div class=\"sk-item\"><div class=\"sk-estimator sk-toggleable\"><input class=\"sk-toggleable__control sk-hidden--visually\" id=\"sk-estimator-id-1\" type=\"checkbox\" checked><label for=\"sk-estimator-id-1\" class=\"sk-toggleable__label sk-toggleable__label-arrow\">KNeighborsClassifier</label><div class=\"sk-toggleable__content\"><pre>KNeighborsClassifier(metric=&#x27;manhattan&#x27;, n_neighbors=18, weights=&#x27;distance&#x27;)</pre></div></div></div></div></div>"
      ],
      "text/plain": [
       "KNeighborsClassifier(metric='manhattan', n_neighbors=18, weights='distance')"
      ]
     },
     "execution_count": 21,
     "metadata": {},
     "output_type": "execute_result"
    }
   ],
   "source": [
    "knn = KNeighborsClassifier(n_neighbors=18, weights='distance', metric='manhattan')\n",
    "knn.fit(X_train, y_train)"
   ]
  },
  {
   "cell_type": "markdown",
   "id": "cf1162a8",
   "metadata": {
    "papermill": {
     "duration": 0.006733,
     "end_time": "2024-11-20T13:12:40.574436",
     "exception": false,
     "start_time": "2024-11-20T13:12:40.567703",
     "status": "completed"
    },
    "tags": []
   },
   "source": [
    "# <p style=\"background-color: #4CAF50; font-family: 'Arial', sans-serif; font-weight: bold; color: #FFFFFF; font-size: 80%; text-align: center; border: 1px solid #FFFFFF; border-radius: 10px; padding: 10px; box-shadow: 0 4px 15px rgba(0, 0, 0, 0.2);\">💥 Model Performance (Testing the Brainpower!)</p>\n"
   ]
  },
  {
   "cell_type": "code",
   "execution_count": 22,
   "id": "c4f88fe6",
   "metadata": {
    "execution": {
     "iopub.execute_input": "2024-11-20T13:12:40.589362Z",
     "iopub.status.busy": "2024-11-20T13:12:40.588851Z",
     "iopub.status.idle": "2024-11-20T13:13:00.238583Z",
     "shell.execute_reply": "2024-11-20T13:13:00.237698Z"
    },
    "papermill": {
     "duration": 19.659197,
     "end_time": "2024-11-20T13:13:00.240490",
     "exception": false,
     "start_time": "2024-11-20T13:12:40.581293",
     "status": "completed"
    },
    "tags": []
   },
   "outputs": [
    {
     "name": "stdout",
     "output_type": "stream",
     "text": [
      "Accuracy: 0.924591329068941\n"
     ]
    }
   ],
   "source": [
    "y_pred = knn.predict(X_test)\n",
    "print(\"Accuracy:\", accuracy_score(y_test, y_pred))"
   ]
  },
  {
   "cell_type": "code",
   "execution_count": 23,
   "id": "09797970",
   "metadata": {
    "execution": {
     "iopub.execute_input": "2024-11-20T13:13:00.256948Z",
     "iopub.status.busy": "2024-11-20T13:13:00.256272Z",
     "iopub.status.idle": "2024-11-20T13:13:00.288853Z",
     "shell.execute_reply": "2024-11-20T13:13:00.287891Z"
    },
    "papermill": {
     "duration": 0.042689,
     "end_time": "2024-11-20T13:13:00.290717",
     "exception": false,
     "start_time": "2024-11-20T13:13:00.248028",
     "status": "completed"
    },
    "tags": []
   },
   "outputs": [
    {
     "name": "stdout",
     "output_type": "stream",
     "text": [
      "\n",
      "Classification Report:\n",
      "               precision    recall  f1-score   support\n",
      "\n",
      "           0       0.95      0.95      0.95     11512\n",
      "           1       0.79      0.79      0.79      2558\n",
      "\n",
      "    accuracy                           0.92     14070\n",
      "   macro avg       0.87      0.87      0.87     14070\n",
      "weighted avg       0.92      0.92      0.92     14070\n",
      "\n"
     ]
    }
   ],
   "source": [
    "print(\"\\nClassification Report:\\n\", classification_report(y_test, y_pred))"
   ]
  },
  {
   "cell_type": "code",
   "execution_count": 24,
   "id": "652f7cf3",
   "metadata": {
    "execution": {
     "iopub.execute_input": "2024-11-20T13:13:00.306950Z",
     "iopub.status.busy": "2024-11-20T13:13:00.306670Z",
     "iopub.status.idle": "2024-11-20T13:13:00.314394Z",
     "shell.execute_reply": "2024-11-20T13:13:00.313589Z"
    },
    "papermill": {
     "duration": 0.01749,
     "end_time": "2024-11-20T13:13:00.315902",
     "exception": false,
     "start_time": "2024-11-20T13:13:00.298412",
     "status": "completed"
    },
    "tags": []
   },
   "outputs": [
    {
     "name": "stdout",
     "output_type": "stream",
     "text": [
      "\n",
      "Confusion Matrix:\n",
      " [[10984   528]\n",
      " [  533  2025]]\n"
     ]
    }
   ],
   "source": [
    "print(\"\\nConfusion Matrix:\\n\", confusion_matrix(y_test, y_pred))"
   ]
  },
  {
   "cell_type": "code",
   "execution_count": 25,
   "id": "fdba97f7",
   "metadata": {
    "execution": {
     "iopub.execute_input": "2024-11-20T13:13:00.330900Z",
     "iopub.status.busy": "2024-11-20T13:13:00.330618Z",
     "iopub.status.idle": "2024-11-20T13:13:19.502258Z",
     "shell.execute_reply": "2024-11-20T13:13:19.501331Z"
    },
    "papermill": {
     "duration": 19.181182,
     "end_time": "2024-11-20T13:13:19.504166",
     "exception": false,
     "start_time": "2024-11-20T13:13:00.322984",
     "status": "completed"
    },
    "tags": []
   },
   "outputs": [
    {
     "data": {
      "image/png": "[encoded data removed]",
      "text/plain": [
       "<Figure size 700x600 with 1 Axes>"
      ]
     },
     "metadata": {},
     "output_type": "display_data"
    }
   ],
   "source": [
    "y_proba = knn.predict_proba(X_test)[:, 1]  \n",
    "fpr, tpr, _ = roc_curve(y_test, y_proba)\n",
    "roc_auc = auc(fpr, tpr)\n",
    "\n",
    "plt.figure(figsize=(7, 6))\n",
    "plt.plot(fpr, tpr, color='darkorange', lw=2, label=f'ROC curve (area = {roc_auc:.2f})')\n",
    "plt.plot([0, 1], [0, 1], color='navy', lw=2, linestyle='--', label='Chance')\n",
    "plt.xlabel('False Positive Rate')\n",
    "plt.ylabel('True Positive Rate')\n",
    "plt.title('Receiver Operating Characteristic (ROC) Curve')\n",
    "plt.legend(loc=\"lower right\")\n",
    "plt.grid()\n",
    "plt.show()"
   ]
  },
  {
   "cell_type": "markdown",
   "id": "8e544f07",
   "metadata": {
    "papermill": {
     "duration": 0.007542,
     "end_time": "2024-11-20T13:13:19.520319",
     "exception": false,
     "start_time": "2024-11-20T13:13:19.512777",
     "status": "completed"
    },
    "tags": []
   },
   "source": [
    "# <p style=\"background-color: #4CAF50; font-family: 'Arial', sans-serif; font-weight: bold; color: #FFFFFF; font-size: 80%; text-align: center; border: 1px solid #FFFFFF; border-radius: 10px; padding: 10px; box-shadow: 0 4px 15px rgba(0, 0, 0, 0.2);\">🎯 Prediction Power: Performance & Results 🔮</p>\n"
   ]
  },
  {
   "cell_type": "code",
   "execution_count": 26,
   "id": "50f309e5",
   "metadata": {
    "execution": {
     "iopub.execute_input": "2024-11-20T13:13:19.537381Z",
     "iopub.status.busy": "2024-11-20T13:13:19.537109Z",
     "iopub.status.idle": "2024-11-20T13:13:19.661305Z",
     "shell.execute_reply": "2024-11-20T13:13:19.660411Z"
    },
    "papermill": {
     "duration": 0.134758,
     "end_time": "2024-11-20T13:13:19.663278",
     "exception": false,
     "start_time": "2024-11-20T13:13:19.528520",
     "status": "completed"
    },
    "tags": []
   },
   "outputs": [],
   "source": [
    "le = LabelEncoder()\n",
    "\n",
    "for column in object_columns:\n",
    "    test[column] = le.fit_transform(test[column])"
   ]
  },
  {
   "cell_type": "code",
   "execution_count": 27,
   "id": "6faf103b",
   "metadata": {
    "execution": {
     "iopub.execute_input": "2024-11-20T13:13:19.680359Z",
     "iopub.status.busy": "2024-11-20T13:13:19.680079Z",
     "iopub.status.idle": "2024-11-20T13:13:19.691849Z",
     "shell.execute_reply": "2024-11-20T13:13:19.691053Z"
    },
    "papermill": {
     "duration": 0.02189,
     "end_time": "2024-11-20T13:13:19.693351",
     "exception": false,
     "start_time": "2024-11-20T13:13:19.671461",
     "status": "completed"
    },
    "tags": []
   },
   "outputs": [
    {
     "data": {
      "text/html": [
       "<div>\n",
       "<style scoped>\n",
       "    .dataframe tbody tr th:only-of-type {\n",
       "        vertical-align: middle;\n",
       "    }\n",
       "\n",
       "    .dataframe tbody tr th {\n",
       "        vertical-align: top;\n",
       "    }\n",
       "\n",
       "    .dataframe thead th {\n",
       "        text-align: right;\n",
       "    }\n",
       "</style>\n",
       "<table border=\"1\" class=\"dataframe\">\n",
       "  <thead>\n",
       "    <tr style=\"text-align: right;\">\n",
       "      <th></th>\n",
       "      <th>Gender</th>\n",
       "      <th>Age</th>\n",
       "      <th>City</th>\n",
       "      <th>Working Professional or Student</th>\n",
       "      <th>Profession</th>\n",
       "      <th>Academic Pressure</th>\n",
       "      <th>Work Pressure</th>\n",
       "      <th>CGPA</th>\n",
       "      <th>Study Satisfaction</th>\n",
       "      <th>Job Satisfaction</th>\n",
       "      <th>Sleep Duration</th>\n",
       "      <th>Dietary Habits</th>\n",
       "      <th>Have you ever had suicidal thoughts ?</th>\n",
       "      <th>Work/Study Hours</th>\n",
       "      <th>Financial Stress</th>\n",
       "      <th>Family History of Mental Illness</th>\n",
       "      <th>Degree_Category</th>\n",
       "    </tr>\n",
       "  </thead>\n",
       "  <tbody>\n",
       "    <tr>\n",
       "      <th>0</th>\n",
       "      <td>1</td>\n",
       "      <td>53</td>\n",
       "      <td>67</td>\n",
       "      <td>1</td>\n",
       "      <td>26</td>\n",
       "      <td>0</td>\n",
       "      <td>2</td>\n",
       "      <td>8.00</td>\n",
       "      <td>0</td>\n",
       "      <td>5</td>\n",
       "      <td>1</td>\n",
       "      <td>8</td>\n",
       "      <td>0</td>\n",
       "      <td>9</td>\n",
       "      <td>3</td>\n",
       "      <td>1</td>\n",
       "      <td>1</td>\n",
       "    </tr>\n",
       "    <tr>\n",
       "      <th>1</th>\n",
       "      <td>0</td>\n",
       "      <td>58</td>\n",
       "      <td>25</td>\n",
       "      <td>1</td>\n",
       "      <td>19</td>\n",
       "      <td>0</td>\n",
       "      <td>2</td>\n",
       "      <td>8.00</td>\n",
       "      <td>0</td>\n",
       "      <td>4</td>\n",
       "      <td>1</td>\n",
       "      <td>8</td>\n",
       "      <td>0</td>\n",
       "      <td>6</td>\n",
       "      <td>4</td>\n",
       "      <td>0</td>\n",
       "      <td>1</td>\n",
       "    </tr>\n",
       "    <tr>\n",
       "      <th>2</th>\n",
       "      <td>1</td>\n",
       "      <td>53</td>\n",
       "      <td>21</td>\n",
       "      <td>1</td>\n",
       "      <td>54</td>\n",
       "      <td>0</td>\n",
       "      <td>4</td>\n",
       "      <td>8.00</td>\n",
       "      <td>0</td>\n",
       "      <td>1</td>\n",
       "      <td>3</td>\n",
       "      <td>8</td>\n",
       "      <td>1</td>\n",
       "      <td>12</td>\n",
       "      <td>4</td>\n",
       "      <td>0</td>\n",
       "      <td>1</td>\n",
       "    </tr>\n",
       "    <tr>\n",
       "      <th>3</th>\n",
       "      <td>0</td>\n",
       "      <td>23</td>\n",
       "      <td>46</td>\n",
       "      <td>0</td>\n",
       "      <td>63</td>\n",
       "      <td>5</td>\n",
       "      <td>0</td>\n",
       "      <td>6.84</td>\n",
       "      <td>1</td>\n",
       "      <td>0</td>\n",
       "      <td>2</td>\n",
       "      <td>8</td>\n",
       "      <td>1</td>\n",
       "      <td>10</td>\n",
       "      <td>4</td>\n",
       "      <td>0</td>\n",
       "      <td>2</td>\n",
       "    </tr>\n",
       "    <tr>\n",
       "      <th>4</th>\n",
       "      <td>1</td>\n",
       "      <td>47</td>\n",
       "      <td>22</td>\n",
       "      <td>1</td>\n",
       "      <td>54</td>\n",
       "      <td>0</td>\n",
       "      <td>5</td>\n",
       "      <td>8.00</td>\n",
       "      <td>0</td>\n",
       "      <td>5</td>\n",
       "      <td>3</td>\n",
       "      <td>8</td>\n",
       "      <td>1</td>\n",
       "      <td>3</td>\n",
       "      <td>4</td>\n",
       "      <td>0</td>\n",
       "      <td>1</td>\n",
       "    </tr>\n",
       "  </tbody>\n",
       "</table>\n",
       "</div>"
      ],
      "text/plain": [
       "   Gender  Age  City  Working Professional or Student  Profession  \\\n",
       "0       1   53    67                                1          26   \n",
       "1       0   58    25                                1          19   \n",
       "2       1   53    21                                1          54   \n",
       "3       0   23    46                                0          63   \n",
       "4       1   47    22                                1          54   \n",
       "\n",
       "   Academic Pressure  Work Pressure  CGPA  Study Satisfaction  \\\n",
       "0                  0              2  8.00                   0   \n",
       "1                  0              2  8.00                   0   \n",
       "2                  0              4  8.00                   0   \n",
       "3                  5              0  6.84                   1   \n",
       "4                  0              5  8.00                   0   \n",
       "\n",
       "   Job Satisfaction  Sleep Duration  Dietary Habits  \\\n",
       "0                 5               1               8   \n",
       "1                 4               1               8   \n",
       "2                 1               3               8   \n",
       "3                 0               2               8   \n",
       "4                 5               3               8   \n",
       "\n",
       "   Have you ever had suicidal thoughts ?  Work/Study Hours  Financial Stress  \\\n",
       "0                                      0                 9                 3   \n",
       "1                                      0                 6                 4   \n",
       "2                                      1                12                 4   \n",
       "3                                      1                10                 4   \n",
       "4                                      1                 3                 4   \n",
       "\n",
       "   Family History of Mental Illness  Degree_Category  \n",
       "0                                 1                1  \n",
       "1                                 0                1  \n",
       "2                                 0                1  \n",
       "3                                 0                2  \n",
       "4                                 0                1  "
      ]
     },
     "execution_count": 27,
     "metadata": {},
     "output_type": "execute_result"
    }
   ],
   "source": [
    "test.head()"
   ]
  },
  {
   "cell_type": "code",
   "execution_count": 28,
   "id": "3427bf33",
   "metadata": {
    "execution": {
     "iopub.execute_input": "2024-11-20T13:13:19.710750Z",
     "iopub.status.busy": "2024-11-20T13:13:19.710481Z",
     "iopub.status.idle": "2024-11-20T13:15:27.531247Z",
     "shell.execute_reply": "2024-11-20T13:15:27.529965Z"
    },
    "papermill": {
     "duration": 127.831994,
     "end_time": "2024-11-20T13:15:27.533613",
     "exception": false,
     "start_time": "2024-11-20T13:13:19.701619",
     "status": "completed"
    },
    "tags": []
   },
   "outputs": [],
   "source": [
    "test_preds = knn.predict_proba(test)[:, 1]\n",
    "submission = pd.DataFrame({'id': submission['id'], \n",
    "                           'Depression': np.round(test_preds)})"
   ]
  },
  {
   "cell_type": "code",
   "execution_count": 29,
   "id": "882ca9b7",
   "metadata": {
    "execution": {
     "iopub.execute_input": "2024-11-20T13:15:27.552219Z",
     "iopub.status.busy": "2024-11-20T13:15:27.551890Z",
     "iopub.status.idle": "2024-11-20T13:15:27.558404Z",
     "shell.execute_reply": "2024-11-20T13:15:27.557436Z"
    },
    "papermill": {
     "duration": 0.017489,
     "end_time": "2024-11-20T13:15:27.560222",
     "exception": false,
     "start_time": "2024-11-20T13:15:27.542733",
     "status": "completed"
    },
    "tags": []
   },
   "outputs": [
    {
     "name": "stdout",
     "output_type": "stream",
     "text": [
      "       id  Depression\n",
      "0  140700         0.0\n",
      "1  140701         0.0\n",
      "2  140702         0.0\n",
      "3  140703         1.0\n",
      "4  140704         0.0\n",
      "5  140705         0.0\n",
      "6  140706         0.0\n",
      "7  140707         0.0\n",
      "8  140708         0.0\n",
      "9  140709         1.0\n"
     ]
    }
   ],
   "source": [
    "print(submission.head(10))"
   ]
  },
  {
   "cell_type": "code",
   "execution_count": 30,
   "id": "bc6763d7",
   "metadata": {
    "execution": {
     "iopub.execute_input": "2024-11-20T13:15:27.577993Z",
     "iopub.status.busy": "2024-11-20T13:15:27.577709Z",
     "iopub.status.idle": "2024-11-20T13:15:27.670779Z",
     "shell.execute_reply": "2024-11-20T13:15:27.669708Z"
    },
    "papermill": {
     "duration": 0.104108,
     "end_time": "2024-11-20T13:15:27.672616",
     "exception": false,
     "start_time": "2024-11-20T13:15:27.568508",
     "status": "completed"
    },
    "tags": []
   },
   "outputs": [
    {
     "name": "stdout",
     "output_type": "stream",
     "text": [
      "File Saved!!\n"
     ]
    }
   ],
   "source": [
    "submission.to_csv('submission.csv', index=False)\n",
    "print(\"File Saved!!\")"
   ]
  },
  {
   "cell_type": "markdown",
   "id": "05fd558f",
   "metadata": {
    "papermill": {
     "duration": 0.008055,
     "end_time": "2024-11-20T13:15:27.689429",
     "exception": false,
     "start_time": "2024-11-20T13:15:27.681374",
     "status": "completed"
    },
    "tags": []
   },
   "source": [
    "<div style=\"padding: 20px; border: 2px solid black; font-family: 'Comic Sans MS'; line-height: 1.5em; width: 75%; margin: 0 auto;\">\n",
    "    <p style=\"font-size: 20px; color: black;\">\n",
    "        <strong>Conclusion:</strong><br>\n",
    "        \n",
    "The K-Nearest Neighbors (KNN) model achieved a strong overall accuracy of 92.46%, demonstrating its effectiveness in binary classification. The performance metrics show a high level of precision, recall, and F1-score (0.95) for Class 0 (non-mental health issues), indicating the model's reliability in identifying individuals without mental health concerns. For Class 1 (mental health issues), the model achieved moderate metrics (0.79 for precision, recall, and F1-score), reflecting some difficulty in detecting cases of mental health issues, likely due to class imbalance. The confusion matrix further supports these findings, with 10,984 true negatives, 2,025 true positives, and relatively few misclassifications (528 false positives and 533 false negatives). The macro-averaged metrics (0.87) suggest balanced performance across both classes, while the weighted averages (0.92) confirm the model's robustness in handling the dataset’s class distribution. Overall, the model provides valuable predictions, but there is room for improvement, particularly in enhancing recall for the minority class.<br>\n",
    "    </p>\n",
    "</div>\n",
    "div>\n"
   ]
  }
 ],
 "metadata": {
  "kaggle": {
   "accelerator": "gpu",
   "dataSources": [
    {
     "databundleVersionId": 10008389,
     "sourceId": 84895,
     "sourceType": "competition"
    },
    {
     "datasetId": 5868381,
     "sourceId": 9616093,
     "sourceType": "datasetVersion"
    }
   ],
   "dockerImageVersionId": 30787,
   "isGpuEnabled": true,
   "isInternetEnabled": false,
   "language": "python",
   "sourceType": "notebook"
  },
  "kernelspec": {
   "display_name": "Python 3",
   "language": "python",
   "name": "python3"
  },
  "language_info": {
   "codemirror_mode": {
    "name": "ipython",
    "version": 3
   },
   "file_extension": ".py",
   "mimetype": "text/x-python",
   "name": "python",
   "nbconvert_exporter": "python",
   "pygments_lexer": "ipython3",
   "version": "3.10.14"
  },
  "papermill": {
   "default_parameters": {},
   "duration": 175.334473,
   "end_time": "2024-11-20T13:15:28.217473",
   "environment_variables": {},
   "exception": null,
   "input_path": "__notebook__.ipynb",
   "output_path": "__notebook__.ipynb",
   "parameters": {},
   "start_time": "2024-11-20T13:12:32.883000",
   "version": "2.6.0"
  }
 },
 "nbformat": 4,
 "nbformat_minor": 5
}
